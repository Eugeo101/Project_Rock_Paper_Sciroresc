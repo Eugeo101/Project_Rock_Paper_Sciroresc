{
  "cells": [
    {
      "cell_type": "markdown",
      "metadata": {
        "id": "UyTgxVmwsq2x"
      },
      "source": [
        "![image.png](attachment:image.png)"
      ]
    },
    {
      "cell_type": "markdown",
      "metadata": {
        "id": "ZYbGLay-sq20"
      },
      "source": [
        "> ### Harry works in the library, Harry is tired of writing data in paper records so Harry decides to go digital.\n",
        "> ### Harry wants a program to do all the operations in the library.\n",
        "> ### Let's help Harry!"
      ]
    },
    {
      "cell_type": "code",
      "execution_count": null,
      "metadata": {
        "id": "AOgqVPd4sq21"
      },
      "outputs": [],
      "source": []
    },
    {
      "cell_type": "markdown",
      "metadata": {
        "id": "MBAqLDx3sq21"
      },
      "source": [
        "# Task 1 :\n",
        "- #### task 1.1 Make Class(Library) with attributes:\n",
        "    - booksList  \n",
        "    - name of lirary  \n",
        "    - lended books (name of user, book)\n",
        "- #### task 1.2 Make method to display available Books.\n",
        "- #### task 1.3 Make method for books lending.\n",
        "    - Don't forget to check if book isn't already lended\n",
        "- #### task 1.4 Make method to add Book to library.\n",
        "- #### task 1.5 Make method to return borrowed book."
      ]
    },
    {
      "cell_type": "code",
      "source": [
        "list_of_lists = [['book_1', 'book_2'], ['book_3', 'book_4']]\n",
        "result = []\n",
        "\n",
        "for listo in list_of_lists:\n",
        "    result += listo\n",
        "\n",
        "result"
      ],
      "metadata": {
        "colab": {
          "base_uri": "https://localhost:8080/"
        },
        "id": "ShqAnmAAzYSN",
        "outputId": "6af05508-b380-46b3-f474-a3a86aa0ec0b"
      },
      "execution_count": 1,
      "outputs": [
        {
          "output_type": "execute_result",
          "data": {
            "text/plain": [
              "['book_1', 'book_2', 'book_3', 'book_4']"
            ]
          },
          "metadata": {},
          "execution_count": 1
        }
      ]
    },
    {
      "cell_type": "code",
      "execution_count": 3,
      "metadata": {
        "id": "3HOTRDNtsq22"
      },
      "outputs": [],
      "source": [
        "class Library:\n",
        "    def __init__(self, booksList, liraryName):\n",
        "        self.booksList = booksList\n",
        "        self.liraryName = liraryName\n",
        "        self.lendedBooks = {} # 'ahmed' -> ['book_1', 'book_2']\n",
        "        # 'mohamed' -> ['book_3', 'book_4']\n",
        "\n",
        "    def displayAvailableBooks(self):\n",
        "        print(\"Available Books: \")\n",
        "        for i in range(len(self.booksList)):\n",
        "            print(f\"{i+1}- {self.booksList[i]}\")\n",
        "\n",
        "    def lendBook(self, user, book):\n",
        "        # if user doesn't exsist create user with []\n",
        "        if user not in self.lendedBooks.keys():\n",
        "            self.lendedBooks[user] = []\n",
        "\n",
        "        # check lendbook\n",
        "        if book in self.booksList:\n",
        "\n",
        "            ## someone lended the book? => list of lists into one single list\n",
        "            list_lended_books = []\n",
        "            for books in self.lendedBooks.values(): # [['book_1', 'book_2'], ['book_1', 'book_2']]\n",
        "                list_lended_books = list_lended_books + list(books)\n",
        "\n",
        "            if book in list_lended_books:\n",
        "                print(\"This book is already lended\")\n",
        "            else:\n",
        "                self.lendedBooks[user].append(book)\n",
        "                print(\"Book lended successfully.\")\n",
        "        else:\n",
        "            print(\"Sorry, this book is not available in the library.\")\n",
        "\n",
        "    def addBook(self, book):\n",
        "        if book in self.booksList:\n",
        "            print(\"Book is already exsist\")\n",
        "        else:\n",
        "            self.booksList.append(book)\n",
        "            print(\"Book added successfully.\")\n",
        "\n",
        "    def returnBook(self, user, book):\n",
        "        if book in self.booksList:\n",
        "            # return book\n",
        "            if user in self.lendedBooks.keys():\n",
        "                # check book is lended by this user or not\n",
        "                if book in self.lendedBooks[user]:\n",
        "                    # remove book from list\n",
        "                    self.lendedBooks[user].remove(book)\n",
        "                    print(f\"The user ({user}) returned the book ({book})\")\n",
        "                else:\n",
        "                    print(f\"user ({user}) didn't lend this book\")\n",
        "            else:\n",
        "                print(\"This user doesn't exsist in the library\")\n",
        "        else:\n",
        "            print(\"This Book doesn't belong to the library\")"
      ]
    },
    {
      "cell_type": "markdown",
      "metadata": {
        "id": "9f5tF_CPsq22"
      },
      "source": [
        "# Task 2 :\n",
        "- #### task 2.1 Make object(Harry) with attributes:\n",
        "    - booksList  = ['Python', 'Rich Daddy Poor Daddy', 'Harry Potter', 'C++ Basics', 'Algorithms by CLRS']\n",
        "    - name of lirary  = \"CodeWithHarry\"\n",
        "- #### task 2.2 Make program run with this choices. __(Don't forget the welcome message)__\n",
        "    - 1. Display Books\n",
        "    - 2. Lend a Book\n",
        "    - 3. Add a Book\n",
        "    - 4. Return a Book\n",
        "- #### task 2.3 Make prgram ends or continue."
      ]
    },
    {
      "cell_type": "code",
      "execution_count": 6,
      "metadata": {
        "colab": {
          "base_uri": "https://localhost:8080/"
        },
        "id": "SHNxZq1dsq23",
        "outputId": "c1bba4eb-b576-45e4-a59b-abe63c619bec"
      },
      "outputs": [
        {
          "name": "stdout",
          "output_type": "stream",
          "text": [
            "Welcome to CodeWithHarry  Library!\n",
            "Choose the operation you want to perform:\n",
            "1.Display Books\n",
            "2.Lend a Book\n",
            "3.Add a Book\n",
            "4.Return a Book\n",
            "5.Exit\n",
            "Enter your choice: 1\n",
            "Available Books: \n",
            "1- Python\n",
            "2- Rich Daddy Poor Daddy\n",
            "3- Harry Potter\n",
            "4- C++ Basics\n",
            "5- Algorithms by CLRS\n",
            "Choose the operation you want to perform:\n",
            "1.Display Books\n",
            "2.Lend a Book\n",
            "3.Add a Book\n",
            "4.Return a Book\n",
            "5.Exit\n",
            "Enter your choice: 2\n",
            "Enter your name: Ahmed\n",
            "Enter the book you want to borrow: Python\n",
            "Book lended successfully.\n",
            "Choose the operation you want to perform:\n",
            "1.Display Books\n",
            "2.Lend a Book\n",
            "3.Add a Book\n",
            "4.Return a Book\n",
            "5.Exit\n",
            "Enter your choice: 2\n",
            "Enter your name: C++ Basics\n",
            "Enter the book you want to borrow: xx\n",
            "Sorry, this book is not available in the library.\n",
            "Choose the operation you want to perform:\n",
            "1.Display Books\n",
            "2.Lend a Book\n",
            "3.Add a Book\n",
            "4.Return a Book\n",
            "5.Exit\n",
            "Enter your choice: 2\n",
            "Enter your name: Ahmed\n",
            "Enter the book you want to borrow: C++ Basics\n",
            "Book lended successfully.\n",
            "Choose the operation you want to perform:\n",
            "1.Display Books\n",
            "2.Lend a Book\n",
            "3.Add a Book\n",
            "4.Return a Book\n",
            "5.Exit\n",
            "Enter your choice: 4\n",
            "Enter your name: Ahmed\n",
            "Enter the book you want to return: Python\n",
            "The user (Ahmed) returned the book (Python)\n",
            "Choose the operation you want to perform:\n",
            "1.Display Books\n",
            "2.Lend a Book\n",
            "3.Add a Book\n",
            "4.Return a Book\n",
            "5.Exit\n",
            "Enter your choice: 5\n"
          ]
        }
      ],
      "source": [
        "Harry = Library(['Python', 'Rich Daddy Poor Daddy', 'Harry Potter', 'C++ Basics', 'Algorithms by CLRS'], \"CodeWithHarry\")\n",
        "\n",
        "print(\"Welcome to\", Harry.liraryName,\" Library!\")\n",
        "while True:\n",
        "    print(\"Choose the operation you want to perform:\")\n",
        "    print(\"1.Display Books\")\n",
        "    print(\"2.Lend a Book\")\n",
        "    print(\"3.Add a Book\")\n",
        "    print(\"4.Return a Book\")\n",
        "    print(\"5.Exit\")\n",
        "    choice = int(input(\"Enter your choice: \"))\n",
        "    if choice == 1:\n",
        "        Harry.displayAvailableBooks()\n",
        "    elif choice == 2:\n",
        "        user = input(\"Enter your name: \")\n",
        "        book = input(\"Enter the book you want to borrow: \")\n",
        "        Harry.lendBook(user, book)\n",
        "    elif choice == 3:\n",
        "        book = input(\"Enter the book you want to add: \")\n",
        "        Harry.addBook(book)\n",
        "    elif choice == 4:\n",
        "        user = input(\"Enter your name: \")\n",
        "        book = input(\"Enter the book you want to return: \")\n",
        "        Harry.returnBook(user, book)\n",
        "    elif choice == 5:\n",
        "        break\n",
        "    else:\n",
        "        print(\"Invalid input. Please enter valid choice.\")"
      ]
    },
    {
      "cell_type": "code",
      "execution_count": 7,
      "metadata": {
        "colab": {
          "base_uri": "https://localhost:8080/"
        },
        "id": "UiiRnW3Esq23",
        "outputId": "f664db23-f271-49df-aaa4-556aa8cb9230"
      },
      "outputs": [
        {
          "output_type": "execute_result",
          "data": {
            "text/plain": [
              "{'Ahmed': ['C++ Basics'], 'C++ Basics': []}"
            ]
          },
          "metadata": {},
          "execution_count": 7
        }
      ],
      "source": [
        "Harry.lendedBooks"
      ]
    },
    {
      "cell_type": "code",
      "source": [],
      "metadata": {
        "id": "EdO19kSQ0iep"
      },
      "execution_count": null,
      "outputs": []
    }
  ],
  "metadata": {
    "kernelspec": {
      "display_name": "Python 3 (ipykernel)",
      "language": "python",
      "name": "python3"
    },
    "language_info": {
      "codemirror_mode": {
        "name": "ipython",
        "version": 3
      },
      "file_extension": ".py",
      "mimetype": "text/x-python",
      "name": "python",
      "nbconvert_exporter": "python",
      "pygments_lexer": "ipython3",
      "version": "3.11.3"
    },
    "colab": {
      "provenance": []
    }
  },
  "nbformat": 4,
  "nbformat_minor": 0
}